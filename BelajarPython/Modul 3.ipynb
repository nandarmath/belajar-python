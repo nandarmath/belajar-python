{
 "cells": [
  {
   "cell_type": "code",
   "execution_count": 1,
   "id": "7c732e74",
   "metadata": {},
   "outputs": [
    {
     "data": {
      "text/plain": [
       "True"
      ]
     },
     "execution_count": 1,
     "metadata": {},
     "output_type": "execute_result"
    }
   ],
   "source": [
    "2==2."
   ]
  },
  {
   "cell_type": "code",
   "execution_count": 3,
   "id": "374af017",
   "metadata": {},
   "outputs": [
    {
     "ename": "NameError",
     "evalue": "name 'black_sheep' is not defined",
     "output_type": "error",
     "traceback": [
      "\u001b[0;31m---------------------------------------------------------------------------\u001b[0m",
      "\u001b[0;31mNameError\u001b[0m                                 Traceback (most recent call last)",
      "\u001b[0;32m/tmp/ipykernel_8269/2759231152.py\u001b[0m in \u001b[0;36m<module>\u001b[0;34m\u001b[0m\n\u001b[0;32m----> 1\u001b[0;31m \u001b[0mblack_sheep\u001b[0m \u001b[0;34m>\u001b[0m \u001b[0mwhite_sheep\u001b[0m\u001b[0;34m\u001b[0m\u001b[0;34m\u001b[0m\u001b[0m\n\u001b[0m",
      "\u001b[0;31mNameError\u001b[0m: name 'black_sheep' is not defined"
     ]
    }
   ],
   "source": [
    "black_sheep > white_sheep\n"
   ]
  },
  {
   "cell_type": "code",
   "execution_count": 7,
   "id": "c23639c2",
   "metadata": {},
   "outputs": [
    {
     "name": "stdout",
     "output_type": "stream",
     "text": [
      "masukkan nilai n= 100\n",
      "True\n"
     ]
    }
   ],
   "source": [
    "n=int(input(\"masukkan nilai n= \"))\n",
    "print(n>=100)"
   ]
  },
  {
   "cell_type": "code",
   "execution_count": 10,
   "id": "8d87419f",
   "metadata": {},
   "outputs": [
    {
     "name": "stdout",
     "output_type": "stream",
     "text": [
      "masukkan bilangan pertama =5\n",
      "masukkan bilangan kedua =6\n",
      "bilangan terbesar adalah 6\n"
     ]
    }
   ],
   "source": [
    "number1=int(input(\"masukkan bilangan pertama =\"))\n",
    "number2=int(input(\"masukkan bilangan kedua =\"))\n",
    "if number1 > number2:\n",
    "    bilangan_terbesar = number1\n",
    "else:\n",
    "    bilangan_terbesar = number2\n",
    "print(\"bilangan terbesar adalah\", bilangan_terbesar)\n"
   ]
  },
  {
   "cell_type": "code",
   "execution_count": 1,
   "id": "70bdf1a2",
   "metadata": {},
   "outputs": [
    {
     "name": "stdout",
     "output_type": "stream",
     "text": [
      "-1\n",
      "-999999999\n"
     ]
    }
   ],
   "source": [
    "largest_number = -999999999\n",
    "number = int(input())\n",
    "if number == -1:\n",
    "    print(largest_number)\n",
    "    exit()\n",
    "if number > largest_number:\n",
    "    largest_number = number"
   ]
  },
  {
   "cell_type": "code",
   "execution_count": 3,
   "id": "01f760eb",
   "metadata": {},
   "outputs": [
    {
     "name": "stdout",
     "output_type": "stream",
     "text": [
      "masukkan nama Spathipyllum =spathiphyllum\n",
      "No, I want a big Spathiphyllum!\n"
     ]
    }
   ],
   "source": [
    "nama=str(input(\"masukkan nama Spathipyllum =\"))\n",
    "if nama==\"Spathiphyllum\":\n",
    "    print(\"Yes - Spathiphyllum is the best plant ever!\")\n",
    "elif nama==\"spathiphyllum\":\n",
    "    print(\"No, I want a big Spathiphyllum!\")\n",
    "else:\n",
    "    print(\"Spathiphyllum! Not [input]!\")\n",
    "    "
   ]
  },
  {
   "cell_type": "code",
   "execution_count": 13,
   "id": "d192fc45",
   "metadata": {},
   "outputs": [
    {
     "name": "stdout",
     "output_type": "stream",
     "text": [
      "Enter the annual income: 100000\n",
      "The tax is: 19020.0 thalers\n"
     ]
    }
   ],
   "source": [
    "income = float(input(\"Enter the annual income: \"))\n",
    "\n",
    "#\n",
    "# Write your code here.\n",
    "#\n",
    "if income < 85528:\n",
    "    tax=0.18*(85528-556)\n",
    "else:\n",
    "    tax=14389+(0.32*(income-85528))            \n",
    "tax = round(tax,0)\n",
    "print(\"The tax is:\", tax, \"thalers\")\n"
   ]
  },
  {
   "cell_type": "code",
   "execution_count": 17,
   "id": "5feef6a2",
   "metadata": {},
   "outputs": [
    {
     "name": "stdout",
     "output_type": "stream",
     "text": [
      "Enter a year: 1580\n",
      "it's a leap year\n"
     ]
    }
   ],
   "source": [
    "year = int(input(\"Enter a year: \"))\n",
    "\n",
    "#\n",
    "# Write your code here.\n",
    "#\t\n",
    "if year%4 !=0:\n",
    "    print(\"it's a common year\")\n",
    "elif year%100 !=0:\n",
    "    print(\"it's a leap year\")\n",
    "elif year%400 != 0:\n",
    "    print(\"it's a common year\")\n",
    "elif year < 1900:\n",
    "    print(\"Not within the Gregorian calendar period\")\n",
    "else:\n",
    "    print(\"leap year\")\n",
    "\n"
   ]
  },
  {
   "cell_type": "code",
   "execution_count": 18,
   "id": "c51a2772",
   "metadata": {},
   "outputs": [
    {
     "name": "stdout",
     "output_type": "stream",
     "text": [
      "False\n",
      "True\n"
     ]
    }
   ],
   "source": [
    "x = 5\n",
    "y = 10\n",
    "z = 8\n",
    "\n",
    "print(x > y)\n",
    "print(y > z)\n"
   ]
  },
  {
   "cell_type": "code",
   "execution_count": 20,
   "id": "49c25dba",
   "metadata": {},
   "outputs": [
    {
     "name": "stdout",
     "output_type": "stream",
     "text": [
      "False\n",
      "True\n",
      "8\n"
     ]
    }
   ],
   "source": [
    "x, y, z = 5, 10, 8\n",
    "\n",
    "print(x > z)\n",
    "print((y - 5) == x)\n",
    "print(z)"
   ]
  },
  {
   "cell_type": "code",
   "execution_count": 21,
   "id": "4a750dd1",
   "metadata": {},
   "outputs": [
    {
     "name": "stdout",
     "output_type": "stream",
     "text": [
      "True\n",
      "True\n",
      "else\n"
     ]
    }
   ],
   "source": [
    "x = 10\n",
    "\n",
    "if x == 10:\n",
    "    print(x == 10)\n",
    "if x > 5:\n",
    "    print(x > 5)\n",
    "if x < 10:\n",
    "    print(x < 10)\n",
    "else:\n",
    "    print(\"else\")\n"
   ]
  },
  {
   "cell_type": "code",
   "execution_count": null,
   "id": "df5081a4",
   "metadata": {},
   "outputs": [],
   "source": []
  },
  {
   "cell_type": "code",
   "execution_count": null,
   "id": "1df47cbd",
   "metadata": {},
   "outputs": [],
   "source": []
  },
  {
   "cell_type": "code",
   "execution_count": null,
   "id": "2854213e",
   "metadata": {},
   "outputs": [],
   "source": []
  },
  {
   "cell_type": "code",
   "execution_count": null,
   "id": "b07686d5",
   "metadata": {},
   "outputs": [],
   "source": []
  },
  {
   "cell_type": "code",
   "execution_count": null,
   "id": "a388fe13",
   "metadata": {},
   "outputs": [],
   "source": []
  },
  {
   "cell_type": "code",
   "execution_count": null,
   "id": "634a9d0c",
   "metadata": {},
   "outputs": [],
   "source": []
  },
  {
   "cell_type": "code",
   "execution_count": null,
   "id": "94f54137",
   "metadata": {},
   "outputs": [],
   "source": []
  },
  {
   "cell_type": "code",
   "execution_count": null,
   "id": "1ed2e739",
   "metadata": {},
   "outputs": [],
   "source": []
  },
  {
   "cell_type": "code",
   "execution_count": null,
   "id": "ed02ba20",
   "metadata": {},
   "outputs": [],
   "source": []
  },
  {
   "cell_type": "code",
   "execution_count": null,
   "id": "2e204d74",
   "metadata": {},
   "outputs": [],
   "source": []
  }
 ],
 "metadata": {
  "kernelspec": {
   "display_name": "Python 3 (ipykernel)",
   "language": "python",
   "name": "python3"
  },
  "language_info": {
   "codemirror_mode": {
    "name": "ipython",
    "version": 3
   },
   "file_extension": ".py",
   "mimetype": "text/x-python",
   "name": "python",
   "nbconvert_exporter": "python",
   "pygments_lexer": "ipython3",
   "version": "3.9.10"
  }
 },
 "nbformat": 4,
 "nbformat_minor": 5
}
