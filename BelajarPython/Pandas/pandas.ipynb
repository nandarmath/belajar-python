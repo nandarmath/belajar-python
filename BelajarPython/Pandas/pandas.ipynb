{
 "cells": [
  {
   "cell_type": "code",
   "execution_count": 1,
   "id": "f99324fc",
   "metadata": {},
   "outputs": [],
   "source": [
    "import pandas as pd"
   ]
  },
  {
   "cell_type": "code",
   "execution_count": 2,
   "id": "2b691257",
   "metadata": {},
   "outputs": [],
   "source": [
    "from sqlalchemy import create_engine"
   ]
  },
  {
   "cell_type": "code",
   "execution_count": 21,
   "id": "5676debe",
   "metadata": {},
   "outputs": [],
   "source": [
    "mesin=create_engine('sqlite:///:memory:')"
   ]
  },
  {
   "cell_type": "code",
   "execution_count": 6,
   "id": "2e19dd2c",
   "metadata": {},
   "outputs": [],
   "source": [
    "dataku=pd.read_csv('Universities.csv')"
   ]
  },
  {
   "cell_type": "code",
   "execution_count": 7,
   "id": "5fdb9e61",
   "metadata": {},
   "outputs": [
    {
     "data": {
      "text/html": [
       "<div>\n",
       "<style scoped>\n",
       "    .dataframe tbody tr th:only-of-type {\n",
       "        vertical-align: middle;\n",
       "    }\n",
       "\n",
       "    .dataframe tbody tr th {\n",
       "        vertical-align: top;\n",
       "    }\n",
       "\n",
       "    .dataframe thead th {\n",
       "        text-align: right;\n",
       "    }\n",
       "</style>\n",
       "<table border=\"1\" class=\"dataframe\">\n",
       "  <thead>\n",
       "    <tr style=\"text-align: right;\">\n",
       "      <th></th>\n",
       "      <th>Sector</th>\n",
       "      <th>University</th>\n",
       "      <th>Year</th>\n",
       "      <th>Completions</th>\n",
       "      <th>Geography</th>\n",
       "    </tr>\n",
       "  </thead>\n",
       "  <tbody>\n",
       "    <tr>\n",
       "      <th>0</th>\n",
       "      <td>Private for-profit, 2-year</td>\n",
       "      <td>Pima Medical Institute-Las Vegas</td>\n",
       "      <td>2016</td>\n",
       "      <td>591</td>\n",
       "      <td>Nevada</td>\n",
       "    </tr>\n",
       "    <tr>\n",
       "      <th>1</th>\n",
       "      <td>Private for-profit, less-than 2-year</td>\n",
       "      <td>Healthcare Preparatory Institute</td>\n",
       "      <td>2016</td>\n",
       "      <td>28</td>\n",
       "      <td>Nevada</td>\n",
       "    </tr>\n",
       "    <tr>\n",
       "      <th>2</th>\n",
       "      <td>Private for-profit, less-than 2-year</td>\n",
       "      <td>Milan Institute-Las Vegas</td>\n",
       "      <td>2016</td>\n",
       "      <td>408</td>\n",
       "      <td>Nevada</td>\n",
       "    </tr>\n",
       "    <tr>\n",
       "      <th>3</th>\n",
       "      <td>Private for-profit, less-than 2-year</td>\n",
       "      <td>Utah College of Massage Therapy-Vegas</td>\n",
       "      <td>2016</td>\n",
       "      <td>240</td>\n",
       "      <td>Nevada</td>\n",
       "    </tr>\n",
       "    <tr>\n",
       "      <th>4</th>\n",
       "      <td>Public, 4-year or above</td>\n",
       "      <td>Western Nevada College</td>\n",
       "      <td>2016</td>\n",
       "      <td>960</td>\n",
       "      <td>Nevada</td>\n",
       "    </tr>\n",
       "    <tr>\n",
       "      <th>...</th>\n",
       "      <td>...</td>\n",
       "      <td>...</td>\n",
       "      <td>...</td>\n",
       "      <td>...</td>\n",
       "      <td>...</td>\n",
       "    </tr>\n",
       "    <tr>\n",
       "      <th>202</th>\n",
       "      <td>Private for-profit, 2-year</td>\n",
       "      <td>Carrington College-Las Vegas</td>\n",
       "      <td>2012</td>\n",
       "      <td>120</td>\n",
       "      <td>Nevada</td>\n",
       "    </tr>\n",
       "    <tr>\n",
       "      <th>203</th>\n",
       "      <td>Public, 4-year or above</td>\n",
       "      <td>Western Nevada College</td>\n",
       "      <td>2012</td>\n",
       "      <td>495</td>\n",
       "      <td>Nevada</td>\n",
       "    </tr>\n",
       "    <tr>\n",
       "      <th>204</th>\n",
       "      <td>Private for-profit, 2-year</td>\n",
       "      <td>Nevada Career Institute</td>\n",
       "      <td>2012</td>\n",
       "      <td>101</td>\n",
       "      <td>Nevada</td>\n",
       "    </tr>\n",
       "    <tr>\n",
       "      <th>205</th>\n",
       "      <td>Private not-for-profit, 2-year</td>\n",
       "      <td>Expertise Cosmetology Institute</td>\n",
       "      <td>2012</td>\n",
       "      <td>129</td>\n",
       "      <td>Nevada</td>\n",
       "    </tr>\n",
       "    <tr>\n",
       "      <th>206</th>\n",
       "      <td>Public, 2-year</td>\n",
       "      <td>Truckee Meadows Community College</td>\n",
       "      <td>2012</td>\n",
       "      <td>1170</td>\n",
       "      <td>Nevada</td>\n",
       "    </tr>\n",
       "  </tbody>\n",
       "</table>\n",
       "<p>207 rows × 5 columns</p>\n",
       "</div>"
      ],
      "text/plain": [
       "                                   Sector  \\\n",
       "0              Private for-profit, 2-year   \n",
       "1    Private for-profit, less-than 2-year   \n",
       "2    Private for-profit, less-than 2-year   \n",
       "3    Private for-profit, less-than 2-year   \n",
       "4                 Public, 4-year or above   \n",
       "..                                    ...   \n",
       "202            Private for-profit, 2-year   \n",
       "203               Public, 4-year or above   \n",
       "204            Private for-profit, 2-year   \n",
       "205        Private not-for-profit, 2-year   \n",
       "206                        Public, 2-year   \n",
       "\n",
       "                                University  Year  Completions Geography  \n",
       "0         Pima Medical Institute-Las Vegas  2016          591    Nevada  \n",
       "1         Healthcare Preparatory Institute  2016           28    Nevada  \n",
       "2                Milan Institute-Las Vegas  2016          408    Nevada  \n",
       "3    Utah College of Massage Therapy-Vegas  2016          240    Nevada  \n",
       "4                   Western Nevada College  2016          960    Nevada  \n",
       "..                                     ...   ...          ...       ...  \n",
       "202           Carrington College-Las Vegas  2012          120    Nevada  \n",
       "203                 Western Nevada College  2012          495    Nevada  \n",
       "204                Nevada Career Institute  2012          101    Nevada  \n",
       "205        Expertise Cosmetology Institute  2012          129    Nevada  \n",
       "206      Truckee Meadows Community College  2012         1170    Nevada  \n",
       "\n",
       "[207 rows x 5 columns]"
      ]
     },
     "execution_count": 7,
     "metadata": {},
     "output_type": "execute_result"
    }
   ],
   "source": [
    "dataku"
   ]
  },
  {
   "cell_type": "code",
   "execution_count": 8,
   "id": "c424fad1",
   "metadata": {},
   "outputs": [
    {
     "name": "stdout",
     "output_type": "stream",
     "text": [
      "<class 'pandas.core.frame.DataFrame'>\n",
      "RangeIndex: 207 entries, 0 to 206\n",
      "Data columns (total 5 columns):\n",
      " #   Column       Non-Null Count  Dtype \n",
      "---  ------       --------------  ----- \n",
      " 0   Sector       207 non-null    object\n",
      " 1   University   207 non-null    object\n",
      " 2   Year         207 non-null    int64 \n",
      " 3   Completions  207 non-null    int64 \n",
      " 4   Geography    207 non-null    object\n",
      "dtypes: int64(2), object(3)\n",
      "memory usage: 8.2+ KB\n"
     ]
    }
   ],
   "source": [
    "dataku.info()"
   ]
  },
  {
   "cell_type": "code",
   "execution_count": 9,
   "id": "1ff40293",
   "metadata": {},
   "outputs": [
    {
     "data": {
      "text/html": [
       "<div>\n",
       "<style scoped>\n",
       "    .dataframe tbody tr th:only-of-type {\n",
       "        vertical-align: middle;\n",
       "    }\n",
       "\n",
       "    .dataframe tbody tr th {\n",
       "        vertical-align: top;\n",
       "    }\n",
       "\n",
       "    .dataframe thead th {\n",
       "        text-align: right;\n",
       "    }\n",
       "</style>\n",
       "<table border=\"1\" class=\"dataframe\">\n",
       "  <thead>\n",
       "    <tr style=\"text-align: right;\">\n",
       "      <th></th>\n",
       "      <th>Year</th>\n",
       "      <th>Completions</th>\n",
       "    </tr>\n",
       "  </thead>\n",
       "  <tbody>\n",
       "    <tr>\n",
       "      <th>count</th>\n",
       "      <td>207.000000</td>\n",
       "      <td>207.000000</td>\n",
       "    </tr>\n",
       "    <tr>\n",
       "      <th>mean</th>\n",
       "      <td>2014.067633</td>\n",
       "      <td>573.004831</td>\n",
       "    </tr>\n",
       "    <tr>\n",
       "      <th>std</th>\n",
       "      <td>1.405698</td>\n",
       "      <td>1125.247729</td>\n",
       "    </tr>\n",
       "    <tr>\n",
       "      <th>min</th>\n",
       "      <td>2012.000000</td>\n",
       "      <td>0.000000</td>\n",
       "    </tr>\n",
       "    <tr>\n",
       "      <th>25%</th>\n",
       "      <td>2013.000000</td>\n",
       "      <td>98.000000</td>\n",
       "    </tr>\n",
       "    <tr>\n",
       "      <th>50%</th>\n",
       "      <td>2014.000000</td>\n",
       "      <td>200.000000</td>\n",
       "    </tr>\n",
       "    <tr>\n",
       "      <th>75%</th>\n",
       "      <td>2015.000000</td>\n",
       "      <td>414.000000</td>\n",
       "    </tr>\n",
       "    <tr>\n",
       "      <th>max</th>\n",
       "      <td>2016.000000</td>\n",
       "      <td>5388.000000</td>\n",
       "    </tr>\n",
       "  </tbody>\n",
       "</table>\n",
       "</div>"
      ],
      "text/plain": [
       "              Year  Completions\n",
       "count   207.000000   207.000000\n",
       "mean   2014.067633   573.004831\n",
       "std       1.405698  1125.247729\n",
       "min    2012.000000     0.000000\n",
       "25%    2013.000000    98.000000\n",
       "50%    2014.000000   200.000000\n",
       "75%    2015.000000   414.000000\n",
       "max    2016.000000  5388.000000"
      ]
     },
     "execution_count": 9,
     "metadata": {},
     "output_type": "execute_result"
    }
   ],
   "source": [
    "dataku.describe()"
   ]
  },
  {
   "cell_type": "code",
   "execution_count": 10,
   "id": "c48d8e5e",
   "metadata": {},
   "outputs": [
    {
     "data": {
      "text/html": [
       "<div>\n",
       "<style scoped>\n",
       "    .dataframe tbody tr th:only-of-type {\n",
       "        vertical-align: middle;\n",
       "    }\n",
       "\n",
       "    .dataframe tbody tr th {\n",
       "        vertical-align: top;\n",
       "    }\n",
       "\n",
       "    .dataframe thead th {\n",
       "        text-align: right;\n",
       "    }\n",
       "</style>\n",
       "<table border=\"1\" class=\"dataframe\">\n",
       "  <thead>\n",
       "    <tr style=\"text-align: right;\">\n",
       "      <th></th>\n",
       "      <th>Sector</th>\n",
       "      <th>University</th>\n",
       "      <th>Geography</th>\n",
       "    </tr>\n",
       "  </thead>\n",
       "  <tbody>\n",
       "    <tr>\n",
       "      <th>count</th>\n",
       "      <td>207</td>\n",
       "      <td>207</td>\n",
       "      <td>207</td>\n",
       "    </tr>\n",
       "    <tr>\n",
       "      <th>unique</th>\n",
       "      <td>7</td>\n",
       "      <td>45</td>\n",
       "      <td>1</td>\n",
       "    </tr>\n",
       "    <tr>\n",
       "      <th>top</th>\n",
       "      <td>Private for-profit, 2-year</td>\n",
       "      <td>Pima Medical Institute-Las Vegas</td>\n",
       "      <td>Nevada</td>\n",
       "    </tr>\n",
       "    <tr>\n",
       "      <th>freq</th>\n",
       "      <td>79</td>\n",
       "      <td>5</td>\n",
       "      <td>207</td>\n",
       "    </tr>\n",
       "  </tbody>\n",
       "</table>\n",
       "</div>"
      ],
      "text/plain": [
       "                            Sector                        University Geography\n",
       "count                          207                               207       207\n",
       "unique                           7                                45         1\n",
       "top     Private for-profit, 2-year  Pima Medical Institute-Las Vegas    Nevada\n",
       "freq                            79                                 5       207"
      ]
     },
     "execution_count": 10,
     "metadata": {},
     "output_type": "execute_result"
    }
   ],
   "source": [
    "dataku.describe(include=\"O\")"
   ]
  },
  {
   "cell_type": "code",
   "execution_count": 15,
   "id": "76766666",
   "metadata": {},
   "outputs": [
    {
     "name": "stderr",
     "output_type": "stream",
     "text": [
      "/tmp/ipykernel_10132/2596085014.py:1: FutureWarning: The default value of numeric_only in DataFrame.mean is deprecated. In a future version, it will default to False. In addition, specifying 'numeric_only=None' is deprecated. Select only valid columns or specify the value of numeric_only to silence this warning.\n",
      "  dataku.sort_values('Sector').mean()\n"
     ]
    },
    {
     "data": {
      "text/plain": [
       "Year           2014.067633\n",
       "Completions     573.004831\n",
       "dtype: float64"
      ]
     },
     "execution_count": 15,
     "metadata": {},
     "output_type": "execute_result"
    }
   ],
   "source": [
    "dataku.sort_values('Sector').mean()"
   ]
  },
  {
   "cell_type": "code",
   "execution_count": 22,
   "id": "f4dace8a",
   "metadata": {},
   "outputs": [
    {
     "data": {
      "text/plain": [
       "207"
      ]
     },
     "execution_count": 22,
     "metadata": {},
     "output_type": "execute_result"
    }
   ],
   "source": [
    "dataku.to_sql('data-sql',con=mesin)"
   ]
  },
  {
   "cell_type": "code",
   "execution_count": 24,
   "id": "1dc37b76",
   "metadata": {},
   "outputs": [
    {
     "name": "stdout",
     "output_type": "stream",
     "text": [
      "01-Series.ipynb                      Excel_Sample.xlsx\r\n",
      "02-DataFrames.ipynb                  Universities.csv\r\n",
      "03-Missing-Data.ipynb                Untitled.ipynb\r\n",
      "04-Groupby.ipynb                     african_econ_crises.csv\r\n",
      "05-Operations.ipynb                  bank.csv\r\n",
      "06-Data-Input-and-Output.ipynb       example.csv\r\n",
      "07-Pandas-Exercises.ipynb            example2.csv\r\n",
      "08-Pandas-Exercises-Solutions.ipynb  output.csv\r\n"
     ]
    }
   ],
   "source": [
    "ls"
   ]
  },
  {
   "cell_type": "code",
   "execution_count": 25,
   "id": "636ad88f",
   "metadata": {},
   "outputs": [],
   "source": [
    "engine = create_engine('sqlite:///my_database.db')"
   ]
  },
  {
   "cell_type": "code",
   "execution_count": 26,
   "id": "b2da2800",
   "metadata": {},
   "outputs": [
    {
     "data": {
      "text/plain": [
       "207"
      ]
     },
     "execution_count": 26,
     "metadata": {},
     "output_type": "execute_result"
    }
   ],
   "source": [
    "dataku.to_sql('datadb',con=engine)"
   ]
  },
  {
   "cell_type": "code",
   "execution_count": 27,
   "id": "5476f832",
   "metadata": {},
   "outputs": [
    {
     "name": "stdout",
     "output_type": "stream",
     "text": [
      "01-Series.ipynb                      Universities.csv\r\n",
      "02-DataFrames.ipynb                  Untitled.ipynb\r\n",
      "03-Missing-Data.ipynb                african_econ_crises.csv\r\n",
      "04-Groupby.ipynb                     bank.csv\r\n",
      "05-Operations.ipynb                  example.csv\r\n",
      "06-Data-Input-and-Output.ipynb       example2.csv\r\n",
      "07-Pandas-Exercises.ipynb            my_database.db\r\n",
      "08-Pandas-Exercises-Solutions.ipynb  output.csv\r\n",
      "Excel_Sample.xlsx\r\n"
     ]
    }
   ],
   "source": [
    "ls"
   ]
  },
  {
   "cell_type": "code",
   "execution_count": null,
   "id": "a3da44ea",
   "metadata": {},
   "outputs": [],
   "source": []
  },
  {
   "cell_type": "code",
   "execution_count": null,
   "id": "45cec82c",
   "metadata": {},
   "outputs": [],
   "source": []
  },
  {
   "cell_type": "code",
   "execution_count": null,
   "id": "71c17cc0",
   "metadata": {},
   "outputs": [],
   "source": []
  },
  {
   "cell_type": "code",
   "execution_count": null,
   "id": "9e2568a9",
   "metadata": {},
   "outputs": [],
   "source": []
  },
  {
   "cell_type": "code",
   "execution_count": null,
   "id": "df2284ed",
   "metadata": {},
   "outputs": [],
   "source": []
  },
  {
   "cell_type": "code",
   "execution_count": null,
   "id": "24ed3175",
   "metadata": {},
   "outputs": [],
   "source": []
  }
 ],
 "metadata": {
  "kernelspec": {
   "display_name": "Python 3 (ipykernel)",
   "language": "python",
   "name": "python3"
  },
  "language_info": {
   "codemirror_mode": {
    "name": "ipython",
    "version": 3
   },
   "file_extension": ".py",
   "mimetype": "text/x-python",
   "name": "python",
   "nbconvert_exporter": "python",
   "pygments_lexer": "ipython3",
   "version": "3.11.7"
  }
 },
 "nbformat": 4,
 "nbformat_minor": 5
}
