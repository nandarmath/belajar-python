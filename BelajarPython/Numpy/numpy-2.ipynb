{
 "cells": [
  {
   "cell_type": "code",
   "execution_count": 33,
   "id": "89ab55f9",
   "metadata": {},
   "outputs": [],
   "source": [
    "import numpy as np\n",
    "from numpy.lib.stride_tricks import as_strided"
   ]
  },
  {
   "cell_type": "code",
   "execution_count": 9,
   "id": "26f5b85e",
   "metadata": {},
   "outputs": [
    {
     "name": "stdout",
     "output_type": "stream",
     "text": [
      "[[1 2 3]\n",
      " [4 5 6]\n",
      " [7 8 9]] kali  [[1]\n",
      " [0]\n",
      " [0]]"
     ]
    }
   ],
   "source": [
    "A=np.matrix([[1,2,3],[4,5,6],[7,8,9]])\n",
    "x=np.matrix([[1],[0],[0]])\n",
    "print(A,\"kali \", x, end=\"\")"
   ]
  },
  {
   "cell_type": "code",
   "execution_count": 3,
   "id": "50546438",
   "metadata": {},
   "outputs": [
    {
     "data": {
      "text/plain": [
       "matrix([[1],\n",
       "        [4],\n",
       "        [7]])"
      ]
     },
     "execution_count": 3,
     "metadata": {},
     "output_type": "execute_result"
    }
   ],
   "source": [
    "A*x"
   ]
  },
  {
   "cell_type": "code",
   "execution_count": 10,
   "id": "b9d46f13",
   "metadata": {},
   "outputs": [],
   "source": [
    "A=np.array([[1,2,3],[4,5,6],[7,8,9]])\n",
    "x=np.array([[1],[0],[0]])"
   ]
  },
  {
   "cell_type": "code",
   "execution_count": 11,
   "id": "a22bacee",
   "metadata": {},
   "outputs": [
    {
     "data": {
      "text/plain": [
       "array([[1],\n",
       "       [4],\n",
       "       [7]])"
      ]
     },
     "execution_count": 11,
     "metadata": {},
     "output_type": "execute_result"
    }
   ],
   "source": [
    "A.dot(x)"
   ]
  },
  {
   "cell_type": "code",
   "execution_count": 13,
   "id": "98599c05",
   "metadata": {},
   "outputs": [
    {
     "data": {
      "text/plain": [
       "array([[1],\n",
       "       [4],\n",
       "       [7]])"
      ]
     },
     "execution_count": 13,
     "metadata": {},
     "output_type": "execute_result"
    }
   ],
   "source": [
    "A.dot(x)"
   ]
  },
  {
   "cell_type": "code",
   "execution_count": 18,
   "id": "53c70503",
   "metadata": {},
   "outputs": [],
   "source": [
    "B=np.ones((3,3))"
   ]
  },
  {
   "cell_type": "code",
   "execution_count": 15,
   "id": "f1df01f6",
   "metadata": {},
   "outputs": [
    {
     "data": {
      "text/plain": [
       "array([[1., 1., 1.],\n",
       "       [1., 1., 1.],\n",
       "       [1., 1., 1.]])"
      ]
     },
     "execution_count": 15,
     "metadata": {},
     "output_type": "execute_result"
    }
   ],
   "source": [
    "B"
   ]
  },
  {
   "cell_type": "code",
   "execution_count": 19,
   "id": "322f5555",
   "metadata": {},
   "outputs": [
    {
     "data": {
      "text/plain": [
       "numpy.ndarray"
      ]
     },
     "execution_count": 19,
     "metadata": {},
     "output_type": "execute_result"
    }
   ],
   "source": [
    "type(B)"
   ]
  },
  {
   "cell_type": "code",
   "execution_count": 20,
   "id": "00453771",
   "metadata": {},
   "outputs": [],
   "source": [
    "x=np.ones((3,1))"
   ]
  },
  {
   "cell_type": "code",
   "execution_count": 21,
   "id": "184559bd",
   "metadata": {},
   "outputs": [
    {
     "data": {
      "text/plain": [
       "array([[1.],\n",
       "       [1.],\n",
       "       [1.]])"
      ]
     },
     "execution_count": 21,
     "metadata": {},
     "output_type": "execute_result"
    }
   ],
   "source": [
    "x"
   ]
  },
  {
   "cell_type": "code",
   "execution_count": 22,
   "id": "fd931b7b",
   "metadata": {},
   "outputs": [
    {
     "data": {
      "text/plain": [
       "array([[1., 1., 1.],\n",
       "       [1., 1., 1.],\n",
       "       [1., 1., 1.]])"
      ]
     },
     "execution_count": 22,
     "metadata": {},
     "output_type": "execute_result"
    }
   ],
   "source": [
    "B*x"
   ]
  },
  {
   "cell_type": "code",
   "execution_count": 23,
   "id": "553bc438",
   "metadata": {},
   "outputs": [
    {
     "data": {
      "text/plain": [
       "array([[3.],\n",
       "       [3.],\n",
       "       [3.]])"
      ]
     },
     "execution_count": 23,
     "metadata": {},
     "output_type": "execute_result"
    }
   ],
   "source": [
    "B.dot(x)"
   ]
  },
  {
   "cell_type": "code",
   "execution_count": 35,
   "id": "cb403bb5",
   "metadata": {},
   "outputs": [],
   "source": [
    "n=8\n",
    "x=np.arange(n)\n",
    "k=5\n",
    "y=as_strided(x,(k,n-k+1),(x.itemsize,)*2)"
   ]
  },
  {
   "cell_type": "code",
   "execution_count": 36,
   "id": "4d736502",
   "metadata": {
    "scrolled": true
   },
   "outputs": [
    {
     "data": {
      "text/plain": [
       "array([[0, 1, 2, 3],\n",
       "       [1, 2, 3, 4],\n",
       "       [2, 3, 4, 5],\n",
       "       [3, 4, 5, 6],\n",
       "       [4, 5, 6, 7]])"
      ]
     },
     "execution_count": 36,
     "metadata": {},
     "output_type": "execute_result"
    }
   ],
   "source": [
    "y"
   ]
  },
  {
   "cell_type": "code",
   "execution_count": 37,
   "id": "05c09f06",
   "metadata": {},
   "outputs": [
    {
     "data": {
      "text/plain": [
       "8"
      ]
     },
     "execution_count": 37,
     "metadata": {},
     "output_type": "execute_result"
    }
   ],
   "source": [
    "x.itemsize"
   ]
  },
  {
   "cell_type": "code",
   "execution_count": 40,
   "id": "1893a7bf",
   "metadata": {},
   "outputs": [
    {
     "data": {
      "text/plain": [
       "array([[          0,  4294967296,           1,  8589934592],\n",
       "       [          1,  8589934592,           2, 12884901888],\n",
       "       [          2, 12884901888,           3, 17179869184],\n",
       "       [          3, 17179869184,           4, 21474836480],\n",
       "       [          4, 21474836480,           5, 25769803776]])"
      ]
     },
     "execution_count": 40,
     "metadata": {},
     "output_type": "execute_result"
    }
   ],
   "source": [
    "as_strided(x,(5,4),(8,4))"
   ]
  },
  {
   "cell_type": "code",
   "execution_count": 46,
   "id": "963a6b77",
   "metadata": {},
   "outputs": [],
   "source": [
    "x=np.arange(16)"
   ]
  },
  {
   "cell_type": "code",
   "execution_count": 47,
   "id": "03ad60fc",
   "metadata": {},
   "outputs": [
    {
     "data": {
      "text/plain": [
       "array([ 0,  1,  2,  3,  4,  5,  6,  7,  8,  9, 10, 11, 12, 13, 14, 15])"
      ]
     },
     "execution_count": 47,
     "metadata": {},
     "output_type": "execute_result"
    }
   ],
   "source": [
    "x"
   ]
  },
  {
   "cell_type": "code",
   "execution_count": 50,
   "id": "aaf16f50",
   "metadata": {},
   "outputs": [
    {
     "data": {
      "text/plain": [
       "array([[                 0,         4294967296,                  1,\n",
       "                8589934592],\n",
       "       [               256,      2199023255552,                512,\n",
       "             3298534883328],\n",
       "       [            131072,    844424930131968,             196608,\n",
       "          1125899906842624],\n",
       "       [          50331648, 288230376151711744,           67108864,\n",
       "        360287970189639680],\n",
       "       [       17179869184,                  4,        21474836480,\n",
       "                         5],\n",
       "       [     5497558138880,               1280,      6597069766656,\n",
       "                      1536],\n",
       "       [  1688849860263936,             393216,   1970324836974592,\n",
       "                    458752]])"
      ]
     },
     "execution_count": 50,
     "metadata": {},
     "output_type": "execute_result"
    }
   ],
   "source": [
    "y=as_strided(x,(7,4),(7,4))\n",
    "y"
   ]
  },
  {
   "cell_type": "code",
   "execution_count": 53,
   "id": "1fbc986c",
   "metadata": {},
   "outputs": [],
   "source": [
    "x[::2]=99"
   ]
  },
  {
   "cell_type": "code",
   "execution_count": 54,
   "id": "9d43bbbe",
   "metadata": {},
   "outputs": [
    {
     "data": {
      "text/plain": [
       "array([99,  1, 99,  3, 99,  5, 99,  7, 99,  9, 99, 11, 99, 13, 99, 15])"
      ]
     },
     "execution_count": 54,
     "metadata": {},
     "output_type": "execute_result"
    }
   ],
   "source": [
    "x"
   ]
  },
  {
   "cell_type": "code",
   "execution_count": 55,
   "id": "e94c6ed8",
   "metadata": {},
   "outputs": [
    {
     "data": {
      "text/plain": [
       "array([[                 99,          4294967296,                   1,\n",
       "               425201762304],\n",
       "       [                256,     108851651149824,               25344,\n",
       "              3298534883328],\n",
       "       [            6488064,     844424930131968,              196608,\n",
       "          27866022694354944],\n",
       "       [           50331648, 7133701809754865664,          1660944384,\n",
       "         360287970189639680],\n",
       "       [       425201762304,                  99,         21474836480,\n",
       "                          5],\n",
       "       [      5497558138880,                1280,     108851651149824,\n",
       "                      25344],\n",
       "       [  27866022694354944,             6488064,    1970324836974592,\n",
       "                     458752]])"
      ]
     },
     "execution_count": 55,
     "metadata": {},
     "output_type": "execute_result"
    }
   ],
   "source": [
    "y"
   ]
  },
  {
   "cell_type": "code",
   "execution_count": 61,
   "id": "d6d5865d",
   "metadata": {},
   "outputs": [],
   "source": [
    "x,y=np.meshgrid(np.arange(2),np.arange(2))"
   ]
  },
  {
   "cell_type": "code",
   "execution_count": 62,
   "id": "fb3039fa",
   "metadata": {},
   "outputs": [
    {
     "data": {
      "text/plain": [
       "array([[0, 1],\n",
       "       [0, 1]])"
      ]
     },
     "execution_count": 62,
     "metadata": {},
     "output_type": "execute_result"
    }
   ],
   "source": [
    "x"
   ]
  },
  {
   "cell_type": "code",
   "execution_count": 58,
   "id": "12ed78da",
   "metadata": {},
   "outputs": [
    {
     "data": {
      "text/plain": [
       "array([0, 1])"
      ]
     },
     "execution_count": 58,
     "metadata": {},
     "output_type": "execute_result"
    }
   ],
   "source": [
    "np.arange(2)"
   ]
  },
  {
   "cell_type": "code",
   "execution_count": 60,
   "id": "6f7ac286",
   "metadata": {},
   "outputs": [
    {
     "data": {
      "text/plain": [
       "[array([0, 1])]"
      ]
     },
     "execution_count": 60,
     "metadata": {},
     "output_type": "execute_result"
    }
   ],
   "source": [
    "np.meshgrid(np.arange(2))"
   ]
  },
  {
   "cell_type": "code",
   "execution_count": 63,
   "id": "e115ca70",
   "metadata": {},
   "outputs": [
    {
     "data": {
      "text/plain": [
       "array([[0, 0],\n",
       "       [1, 1]])"
      ]
     },
     "execution_count": 63,
     "metadata": {},
     "output_type": "execute_result"
    }
   ],
   "source": [
    "y"
   ]
  },
  {
   "cell_type": "code",
   "execution_count": 64,
   "id": "37713d97",
   "metadata": {},
   "outputs": [
    {
     "data": {
      "text/plain": [
       "array([[0, 1],\n",
       "       [0, 1]])"
      ]
     },
     "execution_count": 64,
     "metadata": {},
     "output_type": "execute_result"
    }
   ],
   "source": [
    "x"
   ]
  },
  {
   "cell_type": "code",
   "execution_count": 75,
   "id": "d3a32519",
   "metadata": {},
   "outputs": [],
   "source": [
    "x=np.array([0,1])"
   ]
  },
  {
   "cell_type": "code",
   "execution_count": 76,
   "id": "fc73292a",
   "metadata": {},
   "outputs": [],
   "source": [
    "y=np.array([0,1,2])"
   ]
  },
  {
   "cell_type": "code",
   "execution_count": 77,
   "id": "0de9555f",
   "metadata": {},
   "outputs": [
    {
     "data": {
      "text/plain": [
       "array([0, 1])"
      ]
     },
     "execution_count": 77,
     "metadata": {},
     "output_type": "execute_result"
    }
   ],
   "source": [
    "x"
   ]
  },
  {
   "cell_type": "code",
   "execution_count": 78,
   "id": "56257f5f",
   "metadata": {},
   "outputs": [
    {
     "data": {
      "text/plain": [
       "array([0, 1, 2])"
      ]
     },
     "execution_count": 78,
     "metadata": {},
     "output_type": "execute_result"
    }
   ],
   "source": [
    "y"
   ]
  },
  {
   "cell_type": "code",
   "execution_count": 79,
   "id": "68181bb3",
   "metadata": {},
   "outputs": [],
   "source": [
    "X,Y=np.meshgrid(x,y)"
   ]
  },
  {
   "cell_type": "code",
   "execution_count": 80,
   "id": "6cd3a562",
   "metadata": {},
   "outputs": [
    {
     "data": {
      "text/plain": [
       "array([[0, 1],\n",
       "       [0, 1],\n",
       "       [0, 1]])"
      ]
     },
     "execution_count": 80,
     "metadata": {},
     "output_type": "execute_result"
    }
   ],
   "source": [
    "X"
   ]
  },
  {
   "cell_type": "code",
   "execution_count": 81,
   "id": "f6e00ce0",
   "metadata": {},
   "outputs": [
    {
     "data": {
      "text/plain": [
       "array([[0, 0],\n",
       "       [1, 1],\n",
       "       [2, 2]])"
      ]
     },
     "execution_count": 81,
     "metadata": {},
     "output_type": "execute_result"
    }
   ],
   "source": [
    "Y"
   ]
  },
  {
   "cell_type": "code",
   "execution_count": 82,
   "id": "413a9128",
   "metadata": {},
   "outputs": [
    {
     "data": {
      "text/plain": [
       "array([[0, 1],\n",
       "       [1, 2],\n",
       "       [2, 3]])"
      ]
     },
     "execution_count": 82,
     "metadata": {},
     "output_type": "execute_result"
    }
   ],
   "source": [
    "X+Y"
   ]
  },
  {
   "cell_type": "code",
   "execution_count": 85,
   "id": "7c9f7c19",
   "metadata": {},
   "outputs": [
    {
     "data": {
      "text/plain": [
       "array([[0, 1],\n",
       "       [1, 2],\n",
       "       [2, 3]])"
      ]
     },
     "execution_count": 85,
     "metadata": {},
     "output_type": "execute_result"
    }
   ],
   "source": [
    "x+y[:,None]"
   ]
  },
  {
   "cell_type": "code",
   "execution_count": null,
   "id": "e5a7ec31",
   "metadata": {},
   "outputs": [],
   "source": []
  }
 ],
 "metadata": {
  "kernelspec": {
   "display_name": "Python 3 (ipykernel)",
   "language": "python",
   "name": "python3"
  },
  "language_info": {
   "codemirror_mode": {
    "name": "ipython",
    "version": 3
   },
   "file_extension": ".py",
   "mimetype": "text/x-python",
   "name": "python",
   "nbconvert_exporter": "python",
   "pygments_lexer": "ipython3",
   "version": "3.11.7"
  }
 },
 "nbformat": 4,
 "nbformat_minor": 5
}
